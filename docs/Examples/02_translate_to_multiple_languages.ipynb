{
 "cells": [
  {
   "cell_type": "markdown",
   "id": "1cb94cfb",
   "metadata": {},
   "source": [
    "[![Open in colab](https://colab.research.google.com/assets/colab-badge.svg)](https://githubtocolab.com/dkedar7/fast_dash/blob/release/docs/Examples/02_translate_to_multiple_languages.ipynb)"
   ]
  },
  {
   "cell_type": "markdown",
   "id": "ce363e40",
   "metadata": {},
   "source": [
    "This notebook is optimized to run in Google Colab."
   ]
  },
  {
   "cell_type": "code",
   "execution_count": null,
   "id": "15601ea1",
   "metadata": {},
   "outputs": [],
   "source": [
    "!pip install fast-dash jupyter_dash"
   ]
  },
  {
   "cell_type": "code",
   "execution_count": 1,
   "id": "2f402652",
   "metadata": {},
   "outputs": [],
   "source": [
    "\n",
    "# This demo uses Hugging Face API inference. To use this, get your token from https://huggingface.co/settings/tokens and paste it below.\n",
    "import os\n",
    "os.environ[\"HF_TOKEN\"] = \"hf_xxxxxxxxxxxxxxxxxxxxxxxxxxx\""
   ]
  },
  {
   "cell_type": "code",
   "execution_count": 2,
   "id": "9153b0d3",
   "metadata": {},
   "outputs": [],
   "source": [
    "from fast_dash import fastdash\n",
    "import requests\n",
    "\n",
    "API_URL = \"https://api-inference.huggingface.co/models/t5-base\"\n",
    "headers = {\"Authorization\": f\"Bearer {os.environ.get('HF_TOKEN')}\"}"
   ]
  },
  {
   "cell_type": "code",
   "execution_count": 4,
   "id": "99030b06",
   "metadata": {},
   "outputs": [],
   "source": [
    "@fastdash(mode='inline', port=5000)\n",
    "def translate_to_multiple_languages(text: str = \"Translate this text to another language\", language: str = [\"German\", \"French\", \"Romanian\"]):\n",
    "    \"Uses  the T5 Base model from Hugging Face. May give incorrect results.\"\n",
    "\t\n",
    "    payload = {\"inputs\": f\"translate English to {language}: {text}\"}\n",
    "    response = requests.post(API_URL, headers=headers, json=payload)\n",
    "    translation = response.json()[0]['translation_text'] if 'translation_text' in response.json()[0] else str(response.json())\n",
    "    return translation"
   ]
  }
 ],
 "metadata": {
  "kernelspec": {
   "display_name": "fastdash_docs",
   "language": "python",
   "name": "python3"
  },
  "language_info": {
   "codemirror_mode": {
    "name": "ipython",
    "version": 3
   },
   "file_extension": ".py",
   "mimetype": "text/x-python",
   "name": "python",
   "nbconvert_exporter": "python",
   "pygments_lexer": "ipython3",
   "version": "3.9.16"
  }
 },
 "nbformat": 4,
 "nbformat_minor": 5
}
