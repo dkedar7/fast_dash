{
 "cells": [
  {
   "cell_type": "markdown",
   "id": "1cb94cfb",
   "metadata": {},
   "source": [
    "[![Open in colab](https://colab.research.google.com/assets/colab-badge.svg)](https://githubtocolab.com/dkedar7/fast_dash/blob/release/docs/Examples/01_simple_text_to_text.ipynb)"
   ]
  },
  {
   "cell_type": "markdown",
   "id": "ce363e40",
   "metadata": {},
   "source": [
    "This notebook is optimized to run in Google Colab."
   ]
  },
  {
   "cell_type": "code",
   "execution_count": null,
   "id": "15601ea1",
   "metadata": {},
   "outputs": [],
   "source": [
    "# !pip install fast-dash jupyter_dash"
   ]
  },
  {
   "cell_type": "code",
   "execution_count": 1,
   "id": "512fe61d-7889-4c5b-90bc-c7284e87f28f",
   "metadata": {},
   "outputs": [],
   "source": [
    "from fast_dash import fastdash"
   ]
  },
  {
   "cell_type": "code",
   "execution_count": 1,
   "id": "e6b45553-4509-4662-b6bc-248779bd554e",
   "metadata": {},
   "outputs": [],
   "source": [
    "@fastdash(mode='inline', port=5000)\n",
    "def text_to_text_function(input_text):\n",
    "    return input_text"
   ]
  }
 ],
 "metadata": {
  "kernelspec": {
   "display_name": "fastdash_docs",
   "language": "python",
   "name": "python3"
  },
  "language_info": {
   "codemirror_mode": {
    "name": "ipython",
    "version": 3
   },
   "file_extension": ".py",
   "mimetype": "text/x-python",
   "name": "python",
   "nbconvert_exporter": "python",
   "pygments_lexer": "ipython3",
   "version": "3.9.16"
  }
 },
 "nbformat": 4,
 "nbformat_minor": 5
}
