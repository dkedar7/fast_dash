{
 "cells": [
  {
   "cell_type": "markdown",
   "metadata": {},
   "source": [
    "[![Open in colab](https://colab.research.google.com/assets/colab-badge.svg)](https://githubtocolab.com/dkedar7/fast_dash/blob/docs/docs/Examples/07_chlorophyll_a_estimates_with_landsat07_chlorophyll_a_estimates_with_landsat.ipynb)"
   ]
  },
  {
   "cell_type": "markdown",
   "metadata": {},
   "source": [
    "This notebook is optimized to run in Google Colab."
   ]
  },
  {
   "cell_type": "code",
   "execution_count": null,
   "metadata": {},
   "outputs": [],
   "source": [
    "!pip install fast-dash"
   ]
  },
  {
   "cell_type": "code",
   "execution_count": null,
   "metadata": {
    "tags": []
   },
   "outputs": [],
   "source": [
    "import datetime\n",
    "import pandas as pd\n",
    "import plotly.express as px\n",
    "\n",
    "from fast_dash import fastdash, Graph"
   ]
  },
  {
   "cell_type": "code",
   "execution_count": null,
   "metadata": {
    "tags": []
   },
   "outputs": [],
   "source": [
    "# If you get a ConnectionError, please retry. \n",
    "data = pd.read_csv(\"https://raw.githubusercontent.com/dkedar7/fast_dash/docs/docs/Examples/assets/chla_subset.csv\")\n",
    "data['date_acquired'] = pd.to_datetime(data[\"date_acquired\"])\n",
    "data = data.sort_values([\"date_acquired\", \"gnis_name\"])\n",
    "data"
   ]
  },
  {
   "cell_type": "code",
   "execution_count": null,
   "metadata": {},
   "outputs": [],
   "source": []
  },
  {
   "cell_type": "markdown",
   "metadata": {},
   "source": [
    "#### Let's build a simple function to display trends"
   ]
  },
  {
   "cell_type": "code",
   "execution_count": null,
   "metadata": {
    "tags": []
   },
   "outputs": [],
   "source": [
    "#@fastdash(mode=\"external\", port=5000)\n",
    "def plot_chlorophyll_estimates(lake_name: str = data.gnis_name.unique().tolist()) -> Graph:\n",
    "    \"\"\"\n",
    "    Plot Landsat-driven estimation of Chlorophyll-a values in island waters of NY state.\n",
    "    \"\"\"\n",
    "    \n",
    "    filtered_data = data[data[\"gnis_name\"] == lake_name]\n",
    "    trend = px.line(data_frame=filtered_data, x=\"date_acquired\", y=\"predictions\", template=\"simple_white\")\n",
    "    \n",
    "    return trend"
   ]
  },
  {
   "cell_type": "code",
   "execution_count": null,
   "metadata": {
    "tags": []
   },
   "outputs": [],
   "source": [
    "plot_chlorophyll_estimates(\"Cayuta Lake\")"
   ]
  },
  {
   "cell_type": "code",
   "execution_count": null,
   "metadata": {},
   "outputs": [],
   "source": []
  },
  {
   "cell_type": "markdown",
   "metadata": {},
   "source": [
    "### Display mean and median values"
   ]
  },
  {
   "cell_type": "code",
   "execution_count": null,
   "metadata": {
    "tags": []
   },
   "outputs": [],
   "source": [
    "# Define the layout of the app. Alphabets denote the placement of each output\n",
    "# In this layout, we are telling the app to display the first two outputs (A and B) next to each other,\n",
    "# and let the third output occupy double the width in the second row.\n",
    "output_layout = \"\"\"\n",
    "AB\n",
    "CC\n",
    "CC\n",
    "\"\"\"\n",
    "\n",
    "@fastdash(mode=\"external\", port=5000, mosaic=output_layout)\n",
    "def plot_chlorophyll_estimates(lake_name: str = data.gnis_name.unique().tolist()) -> (str, str, Graph):\n",
    "    \"\"\"\n",
    "    Plot Landsat-driven estimation of Chlorophyll-a values in island waters of NY state.\n",
    "    \"\"\"\n",
    "    \n",
    "    filtered_data = data[data[\"gnis_name\"] == lake_name]\n",
    "    trend = px.line(data_frame=filtered_data, x=\"date_acquired\", y=\"predictions\", template=\"simple_white\")\n",
    "    \n",
    "    mean = f\"{round(filtered_data['predictions'].mean(), 2)} ug/L\"\n",
    "    median = f\"{round(filtered_data['predictions'].median(), 2)} ug/L\"\n",
    "    \n",
    "    return mean, median, trend"
   ]
  },
  {
   "cell_type": "code",
   "execution_count": null,
   "metadata": {},
   "outputs": [],
   "source": []
  },
  {
   "cell_type": "markdown",
   "metadata": {},
   "source": [
    "### Add date filters"
   ]
  },
  {
   "cell_type": "code",
   "execution_count": null,
   "metadata": {
    "tags": []
   },
   "outputs": [],
   "source": [
    "# Define the layout of the app. Alphabets denote the placement of each output\n",
    "# In this layout, we are telling the app to display the first two outputs (A and B) next to each other,\n",
    "# and let the third output occupy double the width in the second row.\n",
    "output_layout = \"\"\"\n",
    "AB\n",
    "CC\n",
    "CC\n",
    "\"\"\"\n",
    "\n",
    "@fastdash(mode=\"external\", port=5000, mosaic=output_layout)\n",
    "def plot_chlorophyll_estimates(lake_name: str = data.gnis_name.unique().tolist(), \n",
    "                               start_date=datetime.date(2015, 1, 1),\n",
    "                              end_date=datetime.date(2023, 12, 31)) -> (str, str, Graph):\n",
    "    \"\"\"\n",
    "    Plot Landsat-driven estimation of Chlorophyll-a values in island waters of NY state.\n",
    "    \"\"\"\n",
    "    \n",
    "    filtered_data = data[(data[\"gnis_name\"] == lake_name) & (data[\"date_acquired\"].between(start_date, end_date))]\n",
    "    trend = px.line(data_frame=filtered_data, x=\"date_acquired\", y=\"predictions\", template=\"simple_white\")\n",
    "    \n",
    "    mean = f\"{round(filtered_data['predictions'].mean(), 2)} ug/L\"\n",
    "    median = f\"{round(filtered_data['predictions'].median(), 2)} ug/L\"\n",
    "    \n",
    "    return mean, median, trend"
   ]
  },
  {
   "cell_type": "code",
   "execution_count": null,
   "metadata": {},
   "outputs": [],
   "source": []
  }
 ],
 "metadata": {
  "kernelspec": {
   "display_name": "Python 3 (ipykernel)",
   "language": "python",
   "name": "python3"
  },
  "language_info": {
   "codemirror_mode": {
    "name": "ipython",
    "version": 3
   },
   "file_extension": ".py",
   "mimetype": "text/x-python",
   "name": "python",
   "nbconvert_exporter": "python",
   "pygments_lexer": "ipython3",
   "version": "3.9.16"
  }
 },
 "nbformat": 4,
 "nbformat_minor": 4
}
