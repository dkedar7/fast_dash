{
 "cells": [
  {
   "cell_type": "code",
   "execution_count": 2,
   "metadata": {},
   "outputs": [
    {
     "ename": "ModuleNotFoundError",
     "evalue": "No module named 'datashader'",
     "output_type": "error",
     "traceback": [
      "\u001b[1;31m---------------------------------------------------------------------------\u001b[0m",
      "\u001b[1;31mModuleNotFoundError\u001b[0m                       Traceback (most recent call last)",
      "Cell \u001b[1;32mIn[2], line 5\u001b[0m\n\u001b[0;32m      2\u001b[0m df \u001b[38;5;241m=\u001b[39m pd\u001b[38;5;241m.\u001b[39mread_csv(\u001b[38;5;124m'\u001b[39m\u001b[38;5;124mhttps://raw.githubusercontent.com/plotly/datasets/master/uber-rides-data1.csv\u001b[39m\u001b[38;5;124m'\u001b[39m)\n\u001b[0;32m      3\u001b[0m dff \u001b[38;5;241m=\u001b[39m df\u001b[38;5;241m.\u001b[39mquery(\u001b[38;5;124m'\u001b[39m\u001b[38;5;124mLat < 40.82\u001b[39m\u001b[38;5;124m'\u001b[39m)\u001b[38;5;241m.\u001b[39mquery(\u001b[38;5;124m'\u001b[39m\u001b[38;5;124mLat > 40.70\u001b[39m\u001b[38;5;124m'\u001b[39m)\u001b[38;5;241m.\u001b[39mquery(\u001b[38;5;124m'\u001b[39m\u001b[38;5;124mLon > -74.02\u001b[39m\u001b[38;5;124m'\u001b[39m)\u001b[38;5;241m.\u001b[39mquery(\u001b[38;5;124m'\u001b[39m\u001b[38;5;124mLon < -73.91\u001b[39m\u001b[38;5;124m'\u001b[39m)\n\u001b[1;32m----> 5\u001b[0m \u001b[38;5;28;01mimport\u001b[39;00m \u001b[38;5;21;01mdatashader\u001b[39;00m \u001b[38;5;28;01mas\u001b[39;00m \u001b[38;5;21;01mds\u001b[39;00m\n\u001b[0;32m      6\u001b[0m cvs \u001b[38;5;241m=\u001b[39m ds\u001b[38;5;241m.\u001b[39mCanvas(plot_width\u001b[38;5;241m=\u001b[39m\u001b[38;5;241m1000\u001b[39m, plot_height\u001b[38;5;241m=\u001b[39m\u001b[38;5;241m1000\u001b[39m)\n\u001b[0;32m      7\u001b[0m agg \u001b[38;5;241m=\u001b[39m cvs\u001b[38;5;241m.\u001b[39mpoints(dff, x\u001b[38;5;241m=\u001b[39m\u001b[38;5;124m'\u001b[39m\u001b[38;5;124mLon\u001b[39m\u001b[38;5;124m'\u001b[39m, y\u001b[38;5;241m=\u001b[39m\u001b[38;5;124m'\u001b[39m\u001b[38;5;124mLat\u001b[39m\u001b[38;5;124m'\u001b[39m)\n",
      "\u001b[1;31mModuleNotFoundError\u001b[0m: No module named 'datashader'"
     ]
    }
   ],
   "source": [
    "import pandas as pd\n",
    "df = pd.read_csv('https://raw.githubusercontent.com/plotly/datasets/master/uber-rides-data1.csv')\n",
    "dff = df.query('Lat < 40.82').query('Lat > 40.70').query('Lon > -74.02').query('Lon < -73.91')\n",
    "\n",
    "import datashader as ds\n",
    "cvs = ds.Canvas(plot_width=1000, plot_height=1000)\n",
    "agg = cvs.points(dff, x='Lon', y='Lat')\n",
    "# agg is an xarray object, see http://xarray.pydata.org/en/stable/ for more details\n",
    "coords_lat, coords_lon = agg.coords['Lat'].values, agg.coords['Lon'].values\n",
    "# Corners of the image, which need to be passed to mapbox\n",
    "coordinates = [[coords_lon[0], coords_lat[0]],\n",
    "               [coords_lon[-1], coords_lat[0]],\n",
    "               [coords_lon[-1], coords_lat[-1]],\n",
    "               [coords_lon[0], coords_lat[-1]]]\n",
    "\n",
    "from colorcet import fire\n",
    "import datashader.transfer_functions as tf\n",
    "\n",
    "img = tf.shade(agg, cmap=fire)[::-1].to_pil()\n",
    "\n",
    "import plotly.express as px\n",
    "# Trick to create rapidly a figure with mapbox axes\n",
    "fig = px.scatter_mapbox(dff[:1], lat='Lat', lon='Lon', zoom=12)\n",
    "# Add the datashader image as a mapbox layer image\n",
    "fig.update_layout(mapbox_style=\"carto-darkmatter\",\n",
    "                 mapbox_layers = [\n",
    "                {\n",
    "                    \"sourcetype\": \"image\",\n",
    "                    \"source\": img,\n",
    "                    \"coordinates\": coordinates\n",
    "                }]\n",
    ")\n",
    "fig.show()"
   ]
  },
  {
   "cell_type": "code",
   "execution_count": null,
   "metadata": {},
   "outputs": [],
   "source": []
  }
 ],
 "metadata": {
  "kernelspec": {
   "display_name": "fastdash",
   "language": "python",
   "name": "python3"
  },
  "language_info": {
   "codemirror_mode": {
    "name": "ipython",
    "version": 3
   },
   "file_extension": ".py",
   "mimetype": "text/x-python",
   "name": "python",
   "nbconvert_exporter": "python",
   "pygments_lexer": "ipython3",
   "version": "3.11.5"
  }
 },
 "nbformat": 4,
 "nbformat_minor": 2
}
