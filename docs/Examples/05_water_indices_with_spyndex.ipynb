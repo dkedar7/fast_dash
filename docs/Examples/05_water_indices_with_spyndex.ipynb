{
 "cells": [
  {
   "cell_type": "markdown",
   "id": "794fcd92-449c-4b5d-b487-7cdf426f25b4",
   "metadata": {},
   "source": [
    "[![Open in colab](https://colab.research.google.com/assets/colab-badge.svg)](https://githubtocolab.com/dkedar7/fast_dash/blob/docs/docs/Examples/05_water_indices_with_spyndex.ipynb)"
   ]
  },
  {
   "cell_type": "markdown",
   "id": "bb2d08be-12f0-4e6e-9f45-78c7cad7cfc6",
   "metadata": {},
   "source": [
    "This notebook is optimized to run in Google Colab. An interactive demo of this example is deployed [here](https://waterspectralindices-hpn4y2dvda-ue.a.run.app)."
   ]
  },
  {
   "cell_type": "code",
   "execution_count": 1,
   "id": "a21ca98d-fddc-4014-8747-a7bd56f20e10",
   "metadata": {},
   "outputs": [],
   "source": [
    "#!pip install geemap spyndex fast-dash"
   ]
  },
  {
   "cell_type": "code",
   "execution_count": 1,
   "id": "11f0a8f5-aee3-4415-a204-ca47a427be72",
   "metadata": {
    "tags": []
   },
   "outputs": [],
   "source": [
    "import ee\n",
    "import geemap.foliumap as geemap\n",
    "import spyndex\n",
    "\n",
    "import datetime\n",
    "import pandas as pd\n",
    "from fast_dash import FastDash, Fastify, html, dbc, dmc, dash\n",
    "\n",
    "ee.Authenticate()\n",
    "ee.Initialize()"
   ]
  },
  {
   "cell_type": "markdown",
   "id": "754e7ad2-168c-403b-a283-463539b33a71",
   "metadata": {},
   "source": [
    "#### Read GAUL data values"
   ]
  },
  {
   "cell_type": "code",
   "execution_count": 3,
   "id": "356d4411-c48d-4534-97e5-f066f72c9bf7",
   "metadata": {},
   "outputs": [
    {
     "data": {
      "text/html": [
       "\n",
       "            <style>\n",
       "                .geemap-dark {\n",
       "                    --jp-widgets-color: white;\n",
       "                    --jp-widgets-label-color: white;\n",
       "                    --jp-ui-font-color1: white;\n",
       "                    --jp-layout-color2: #454545;\n",
       "                    background-color: #383838;\n",
       "                }\n",
       "                    \n",
       "                .geemap-dark .jupyter-button {\n",
       "                    --jp-layout-color3: #383838;\n",
       "                }\n",
       "                \n",
       "                .geemap-colab {\n",
       "                    background-color: var(--colab-primary-surface-color, white);\n",
       "                }\n",
       "                    \n",
       "                .geemap-colab .jupyter-button {\n",
       "                    --jp-layout-color3: var(--colab-primary-surface-color, white);\n",
       "                }\n",
       "            </style>\n",
       "            "
      ],
      "text/plain": [
       "<IPython.core.display.HTML object>"
      ]
     },
     "metadata": {},
     "output_type": "display_data"
    }
   ],
   "source": [
    "data = pd.read_csv(\"https://raw.githubusercontent.com/dkedar7/fast_dash/docs/docs/Examples/assets/gaul_data.csv\")"
   ]
  },
  {
   "cell_type": "code",
   "execution_count": 4,
   "id": "ab7259e0-31f7-4839-937e-cd3f449430fe",
   "metadata": {},
   "outputs": [
    {
     "data": {
      "text/html": [
       "\n",
       "            <style>\n",
       "                .geemap-dark {\n",
       "                    --jp-widgets-color: white;\n",
       "                    --jp-widgets-label-color: white;\n",
       "                    --jp-ui-font-color1: white;\n",
       "                    --jp-layout-color2: #454545;\n",
       "                    background-color: #383838;\n",
       "                }\n",
       "                    \n",
       "                .geemap-dark .jupyter-button {\n",
       "                    --jp-layout-color3: #383838;\n",
       "                }\n",
       "                \n",
       "                .geemap-colab {\n",
       "                    background-color: var(--colab-primary-surface-color, white);\n",
       "                }\n",
       "                    \n",
       "                .geemap-colab .jupyter-button {\n",
       "                    --jp-layout-color3: var(--colab-primary-surface-color, white);\n",
       "                }\n",
       "            </style>\n",
       "            "
      ],
      "text/plain": [
       "<IPython.core.display.HTML object>"
      ]
     },
     "metadata": {},
     "output_type": "display_data"
    },
    {
     "data": {
      "text/html": [
       "<div>\n",
       "<style scoped>\n",
       "    .dataframe tbody tr th:only-of-type {\n",
       "        vertical-align: middle;\n",
       "    }\n",
       "\n",
       "    .dataframe tbody tr th {\n",
       "        vertical-align: top;\n",
       "    }\n",
       "\n",
       "    .dataframe thead th {\n",
       "        text-align: right;\n",
       "    }\n",
       "</style>\n",
       "<table border=\"1\" class=\"dataframe\">\n",
       "  <thead>\n",
       "    <tr style=\"text-align: right;\">\n",
       "      <th></th>\n",
       "      <th>ADM0_NAME</th>\n",
       "      <th>ADM1_NAME</th>\n",
       "      <th>ADM2_NAME</th>\n",
       "    </tr>\n",
       "  </thead>\n",
       "  <tbody>\n",
       "    <tr>\n",
       "      <th>0</th>\n",
       "      <td>United Republic of Tanzania</td>\n",
       "      <td>Arusha</td>\n",
       "      <td>Karatu</td>\n",
       "    </tr>\n",
       "    <tr>\n",
       "      <th>1</th>\n",
       "      <td>United Republic of Tanzania</td>\n",
       "      <td>Iringa</td>\n",
       "      <td>Iringa Rural</td>\n",
       "    </tr>\n",
       "    <tr>\n",
       "      <th>2</th>\n",
       "      <td>United Republic of Tanzania</td>\n",
       "      <td>Iringa</td>\n",
       "      <td>Kilolo</td>\n",
       "    </tr>\n",
       "    <tr>\n",
       "      <th>3</th>\n",
       "      <td>United Republic of Tanzania</td>\n",
       "      <td>Manyara</td>\n",
       "      <td>Mbulu</td>\n",
       "    </tr>\n",
       "    <tr>\n",
       "      <th>4</th>\n",
       "      <td>United Republic of Tanzania</td>\n",
       "      <td>Pwani</td>\n",
       "      <td>Kisarawe</td>\n",
       "    </tr>\n",
       "  </tbody>\n",
       "</table>\n",
       "</div>"
      ],
      "text/plain": [
       "                     ADM0_NAME ADM1_NAME     ADM2_NAME\n",
       "0  United Republic of Tanzania    Arusha        Karatu\n",
       "1  United Republic of Tanzania    Iringa  Iringa Rural\n",
       "2  United Republic of Tanzania    Iringa        Kilolo\n",
       "3  United Republic of Tanzania   Manyara         Mbulu\n",
       "4  United Republic of Tanzania     Pwani      Kisarawe"
      ]
     },
     "execution_count": 4,
     "metadata": {},
     "output_type": "execute_result"
    }
   ],
   "source": [
    "data.head()"
   ]
  },
  {
   "cell_type": "markdown",
   "id": "bcbb11e9-9d02-4781-a088-68bb0fa9184d",
   "metadata": {},
   "source": [
    "#### Get a list of water indices"
   ]
  },
  {
   "cell_type": "code",
   "execution_count": 5,
   "id": "051f3fd4-ed99-4d2c-8d40-814cdb2e26cc",
   "metadata": {},
   "outputs": [
    {
     "data": {
      "text/html": [
       "\n",
       "            <style>\n",
       "                .geemap-dark {\n",
       "                    --jp-widgets-color: white;\n",
       "                    --jp-widgets-label-color: white;\n",
       "                    --jp-ui-font-color1: white;\n",
       "                    --jp-layout-color2: #454545;\n",
       "                    background-color: #383838;\n",
       "                }\n",
       "                    \n",
       "                .geemap-dark .jupyter-button {\n",
       "                    --jp-layout-color3: #383838;\n",
       "                }\n",
       "                \n",
       "                .geemap-colab {\n",
       "                    background-color: var(--colab-primary-surface-color, white);\n",
       "                }\n",
       "                    \n",
       "                .geemap-colab .jupyter-button {\n",
       "                    --jp-layout-color3: var(--colab-primary-surface-color, white);\n",
       "                }\n",
       "            </style>\n",
       "            "
      ],
      "text/plain": [
       "<IPython.core.display.HTML object>"
      ]
     },
     "metadata": {},
     "output_type": "display_data"
    },
    {
     "name": "stderr",
     "output_type": "stream",
     "text": [
      "/tmp/ipykernel_368/3195300281.py:20: SettingWithCopyWarning:\n",
      "\n",
      "\n",
      "A value is trying to be set on a copy of a slice from a DataFrame.\n",
      "Try using .loc[row_indexer,col_indexer] = value instead\n",
      "\n",
      "See the caveats in the documentation: https://pandas.pydata.org/pandas-docs/stable/user_guide/indexing.html#returning-a-view-versus-a-copy\n",
      "\n"
     ]
    }
   ],
   "source": [
    "columns = [\"application_domain\", \"contributor\", \"date_of_addition\", \"long_name\", \"platforms\", \"reference\", \"short_name\"]\n",
    "track_index = []\n",
    "\n",
    "for index in spyndex.indices.keys():\n",
    "    i = spyndex.indices[index]\n",
    "    track_index.append([i.application_domain,\n",
    "                        i.contributor,\n",
    "                        i.date_of_addition,\n",
    "                        i.long_name,\n",
    "                        i.platforms,\n",
    "                        i.reference,\n",
    "                        i.short_name])\n",
    "                        \n",
    "index_df = pd.DataFrame(track_index, columns=columns)\n",
    "\n",
    "water_indices = index_df[(index_df.application_domain == \"water\") & \n",
    "                    (index_df.platforms.apply(lambda x: \"Landsat-OLI\" in x))]\n",
    "\n",
    "# Add label column\n",
    "water_indices[\"label\"] = water_indices.apply(lambda row: f\"{row.short_name} ({row.long_name})\", axis=1)"
   ]
  },
  {
   "cell_type": "code",
   "execution_count": 6,
   "id": "158f1535-9f27-48ff-b1a1-2b16c30416db",
   "metadata": {},
   "outputs": [
    {
     "data": {
      "text/html": [
       "\n",
       "            <style>\n",
       "                .geemap-dark {\n",
       "                    --jp-widgets-color: white;\n",
       "                    --jp-widgets-label-color: white;\n",
       "                    --jp-ui-font-color1: white;\n",
       "                    --jp-layout-color2: #454545;\n",
       "                    background-color: #383838;\n",
       "                }\n",
       "                    \n",
       "                .geemap-dark .jupyter-button {\n",
       "                    --jp-layout-color3: #383838;\n",
       "                }\n",
       "                \n",
       "                .geemap-colab {\n",
       "                    background-color: var(--colab-primary-surface-color, white);\n",
       "                }\n",
       "                    \n",
       "                .geemap-colab .jupyter-button {\n",
       "                    --jp-layout-color3: var(--colab-primary-surface-color, white);\n",
       "                }\n",
       "            </style>\n",
       "            "
      ],
      "text/plain": [
       "<IPython.core.display.HTML object>"
      ]
     },
     "metadata": {},
     "output_type": "display_data"
    },
    {
     "data": {
      "text/html": [
       "<div>\n",
       "<style scoped>\n",
       "    .dataframe tbody tr th:only-of-type {\n",
       "        vertical-align: middle;\n",
       "    }\n",
       "\n",
       "    .dataframe tbody tr th {\n",
       "        vertical-align: top;\n",
       "    }\n",
       "\n",
       "    .dataframe thead th {\n",
       "        text-align: right;\n",
       "    }\n",
       "</style>\n",
       "<table border=\"1\" class=\"dataframe\">\n",
       "  <thead>\n",
       "    <tr style=\"text-align: right;\">\n",
       "      <th></th>\n",
       "      <th>application_domain</th>\n",
       "      <th>contributor</th>\n",
       "      <th>date_of_addition</th>\n",
       "      <th>long_name</th>\n",
       "      <th>platforms</th>\n",
       "      <th>reference</th>\n",
       "      <th>short_name</th>\n",
       "      <th>label</th>\n",
       "    </tr>\n",
       "  </thead>\n",
       "  <tbody>\n",
       "    <tr>\n",
       "      <th>2</th>\n",
       "      <td>water</td>\n",
       "      <td>https://github.com/davemlz</td>\n",
       "      <td>2022-09-22</td>\n",
       "      <td>Augmented Normalized Difference Water Index</td>\n",
       "      <td>[Sentinel-2, Landsat-OLI, Landsat-TM, Landsat-...</td>\n",
       "      <td>https://doi.org/10.1016/j.envsoft.2021.105030</td>\n",
       "      <td>ANDWI</td>\n",
       "      <td>ANDWI (Augmented Normalized Difference Water I...</td>\n",
       "    </tr>\n",
       "    <tr>\n",
       "      <th>8</th>\n",
       "      <td>water</td>\n",
       "      <td>https://github.com/davemlz</td>\n",
       "      <td>2021-09-18</td>\n",
       "      <td>Automated Water Extraction Index</td>\n",
       "      <td>[Sentinel-2, Landsat-OLI, Landsat-TM, Landsat-...</td>\n",
       "      <td>https://doi.org/10.1016/j.rse.2013.08.029</td>\n",
       "      <td>AWEInsh</td>\n",
       "      <td>AWEInsh (Automated Water Extraction Index)</td>\n",
       "    </tr>\n",
       "    <tr>\n",
       "      <th>9</th>\n",
       "      <td>water</td>\n",
       "      <td>https://github.com/davemlz</td>\n",
       "      <td>2021-09-18</td>\n",
       "      <td>Automated Water Extraction Index with Shadows ...</td>\n",
       "      <td>[Sentinel-2, Landsat-OLI, Landsat-TM, Landsat-...</td>\n",
       "      <td>https://doi.org/10.1016/j.rse.2013.08.029</td>\n",
       "      <td>AWEIsh</td>\n",
       "      <td>AWEIsh (Automated Water Extraction Index with ...</td>\n",
       "    </tr>\n",
       "    <tr>\n",
       "      <th>69</th>\n",
       "      <td>water</td>\n",
       "      <td>https://github.com/davemlz</td>\n",
       "      <td>2022-04-20</td>\n",
       "      <td>Land Surface Water Index</td>\n",
       "      <td>[Sentinel-2, Landsat-OLI, Landsat-TM, Landsat-...</td>\n",
       "      <td>https://doi.org/10.1016/j.rse.2003.11.008</td>\n",
       "      <td>LSWI</td>\n",
       "      <td>LSWI (Land Surface Water Index)</td>\n",
       "    </tr>\n",
       "    <tr>\n",
       "      <th>71</th>\n",
       "      <td>water</td>\n",
       "      <td>https://github.com/davemlz</td>\n",
       "      <td>2022-01-17</td>\n",
       "      <td>Multi-Band Water Index</td>\n",
       "      <td>[Sentinel-2, Landsat-OLI, Landsat-TM, Landsat-...</td>\n",
       "      <td>https://doi.org/10.1016/j.jag.2018.01.018</td>\n",
       "      <td>MBWI</td>\n",
       "      <td>MBWI (Multi-Band Water Index)</td>\n",
       "    </tr>\n",
       "  </tbody>\n",
       "</table>\n",
       "</div>"
      ],
      "text/plain": [
       "   application_domain                 contributor date_of_addition  \\\n",
       "2               water  https://github.com/davemlz       2022-09-22   \n",
       "8               water  https://github.com/davemlz       2021-09-18   \n",
       "9               water  https://github.com/davemlz       2021-09-18   \n",
       "69              water  https://github.com/davemlz       2022-04-20   \n",
       "71              water  https://github.com/davemlz       2022-01-17   \n",
       "\n",
       "                                            long_name  \\\n",
       "2         Augmented Normalized Difference Water Index   \n",
       "8                    Automated Water Extraction Index   \n",
       "9   Automated Water Extraction Index with Shadows ...   \n",
       "69                           Land Surface Water Index   \n",
       "71                             Multi-Band Water Index   \n",
       "\n",
       "                                            platforms  \\\n",
       "2   [Sentinel-2, Landsat-OLI, Landsat-TM, Landsat-...   \n",
       "8   [Sentinel-2, Landsat-OLI, Landsat-TM, Landsat-...   \n",
       "9   [Sentinel-2, Landsat-OLI, Landsat-TM, Landsat-...   \n",
       "69  [Sentinel-2, Landsat-OLI, Landsat-TM, Landsat-...   \n",
       "71  [Sentinel-2, Landsat-OLI, Landsat-TM, Landsat-...   \n",
       "\n",
       "                                        reference short_name  \\\n",
       "2   https://doi.org/10.1016/j.envsoft.2021.105030      ANDWI   \n",
       "8       https://doi.org/10.1016/j.rse.2013.08.029    AWEInsh   \n",
       "9       https://doi.org/10.1016/j.rse.2013.08.029     AWEIsh   \n",
       "69      https://doi.org/10.1016/j.rse.2003.11.008       LSWI   \n",
       "71      https://doi.org/10.1016/j.jag.2018.01.018       MBWI   \n",
       "\n",
       "                                                label  \n",
       "2   ANDWI (Augmented Normalized Difference Water I...  \n",
       "8          AWEInsh (Automated Water Extraction Index)  \n",
       "9   AWEIsh (Automated Water Extraction Index with ...  \n",
       "69                    LSWI (Land Surface Water Index)  \n",
       "71                      MBWI (Multi-Band Water Index)  "
      ]
     },
     "execution_count": 6,
     "metadata": {},
     "output_type": "execute_result"
    }
   ],
   "source": [
    "water_indices.head()"
   ]
  },
  {
   "cell_type": "markdown",
   "id": "6823fb04-2754-4904-8e21-49b1b9268afd",
   "metadata": {},
   "source": [
    "#### Define utility functions"
   ]
  },
  {
   "cell_type": "code",
   "execution_count": 7,
   "id": "edc21a99-a8df-443f-99e2-f5e115b998b3",
   "metadata": {},
   "outputs": [
    {
     "data": {
      "text/html": [
       "\n",
       "            <style>\n",
       "                .geemap-dark {\n",
       "                    --jp-widgets-color: white;\n",
       "                    --jp-widgets-label-color: white;\n",
       "                    --jp-ui-font-color1: white;\n",
       "                    --jp-layout-color2: #454545;\n",
       "                    background-color: #383838;\n",
       "                }\n",
       "                    \n",
       "                .geemap-dark .jupyter-button {\n",
       "                    --jp-layout-color3: #383838;\n",
       "                }\n",
       "                \n",
       "                .geemap-colab {\n",
       "                    background-color: var(--colab-primary-surface-color, white);\n",
       "                }\n",
       "                    \n",
       "                .geemap-colab .jupyter-button {\n",
       "                    --jp-layout-color3: var(--colab-primary-surface-color, white);\n",
       "                }\n",
       "            </style>\n",
       "            "
      ],
      "text/plain": [
       "<IPython.core.display.HTML object>"
      ]
     },
     "metadata": {},
     "output_type": "display_data"
    }
   ],
   "source": [
    "def get_index_function(index_name, image_collection):\n",
    "    # Get the index function from Spyndex.\n",
    "    return spyndex.computeIndex(index=index_name,\n",
    "                     params={\"B\": image_collection.select(\"B2\"),\n",
    "                            \"G\": image_collection.select(\"B3\"),\n",
    "                            \"R\": image_collection.select(\"B4\"),\n",
    "                            \"N\": image_collection.select(\"B5\"),\n",
    "                            \"S1\": image_collection.select(\"B6\"),\n",
    "                            \"S2\": image_collection.select(\"B7\"),\n",
    "                            \"T1\": image_collection.select(\"B10\"),\n",
    "                            \"T2\": image_collection.select(\"B11\"),\n",
    "                            \"gamma\": 1,\n",
    "                            \"alpha\": 1})\n",
    "\n",
    "def calculate_mean_index(image, region):\n",
    "    mean_value = image.reduceRegion(\n",
    "        reducer=ee.Reducer.mean(),\n",
    "        geometry=region,\n",
    "        scale=30,  # Adjust the scale according to your dataset and accuracy requirements\n",
    "        maxPixels=1e9\n",
    "    )\n",
    "    return mean_value.getInfo()\n",
    "\n",
    "# Define a color palette manually.\n",
    "palette = [\n",
    "    '000033',  # Very dark blue\n",
    "    '000066',  # Dark blue\n",
    "    '000099',  # Medium dark blue\n",
    "    '0000CC',  # Moderate blue\n",
    "    '0000FF',  # Blue\n",
    "    '3399FF',  # Lighter blue\n",
    "    '66CCFF',  # Light blue\n",
    "    '99CCFF',  # Very light blue\n",
    "    'CCE6FF'   # Extremely light blue\n",
    "]"
   ]
  },
  {
   "cell_type": "markdown",
   "id": "09b397c3-ed57-4bd0-8442-449e67a9f650",
   "metadata": {},
   "source": [
    "#### Define the main function and build Fast Dash app"
   ]
  },
  {
   "cell_type": "code",
   "execution_count": 8,
   "id": "0082e7ff-b3e0-4f19-888e-a00334588222",
   "metadata": {
    "tags": []
   },
   "outputs": [
    {
     "data": {
      "text/html": [
       "\n",
       "            <style>\n",
       "                .geemap-dark {\n",
       "                    --jp-widgets-color: white;\n",
       "                    --jp-widgets-label-color: white;\n",
       "                    --jp-ui-font-color1: white;\n",
       "                    --jp-layout-color2: #454545;\n",
       "                    background-color: #383838;\n",
       "                }\n",
       "                    \n",
       "                .geemap-dark .jupyter-button {\n",
       "                    --jp-layout-color3: #383838;\n",
       "                }\n",
       "                \n",
       "                .geemap-colab {\n",
       "                    background-color: var(--colab-primary-surface-color, white);\n",
       "                }\n",
       "                    \n",
       "                .geemap-colab .jupyter-button {\n",
       "                    --jp-layout-color3: var(--colab-primary-surface-color, white);\n",
       "                }\n",
       "            </style>\n",
       "            "
      ],
      "text/plain": [
       "<IPython.core.display.HTML object>"
      ]
     },
     "metadata": {},
     "output_type": "display_data"
    }
   ],
   "source": [
    "country_component = dmc.Select(data=data.ADM0_NAME.unique().tolist(), \n",
    "                               value=\"United States of America\",\n",
    "                               label=\"Country of interest\",\n",
    "                               searchable=True)\n",
    "\n",
    "state_component = dmc.Select(label=\"State, provience or an equivalent administrative unit\",\n",
    "                             value=\"New York\",\n",
    "                             searchable=True)\n",
    "\n",
    "county_component = dmc.Select(label=\"County, district or an equivalent administrative unit\",\n",
    "                              value=\"Albany\",\n",
    "                             searchable=True)\n",
    "\n",
    "index_component = dmc.Select(data=water_indices.label.unique().tolist(),\n",
    "                             value=\"NDVIMNDWI (NDVI-MNDWI Model)\",\n",
    "                             searchable=True,\n",
    "                             clearable=True)\n",
    "\n",
    "# Define a function that takes start_date, end_date, country, city, and index as arguments.\n",
    "def water_spectral_indices(country: country_component,\n",
    "                        state_or_province: state_component = None,\n",
    "                        county_or_district: county_component = None,\n",
    "                        water_index: index_component = None,\n",
    "                        minimum_index_value: int = -1,\n",
    "                        maximum_index_value: int = 1) -> html.Iframe(height=\"100%\"):\n",
    "    \n",
    "    \"\"\"\n",
    "    Visualize the selected water spectral index. Select your geography from the inputs to get started. Map on the left displays the median index value \\\n",
    "    for the years 2013 - 2015 and the map on the right displays median values for the years 2021-2023. Compare the two maps to understand how these values \\\n",
    "    changed over the years.\n",
    "    \n",
    "    Learn more about the Spyndex Python library that enables this dynamic index computation [here](https://github.com/awesome-spectral-indices/spyndex).\n",
    "    \n",
    "    :param country: The country of interest.\n",
    "    :type country: str\n",
    "    \n",
    "    :param state_or_province: State, provience or an equivalent administrative unit.\n",
    "    :type state_or_province: str\n",
    "    \n",
    "    :param county_or_district: County, district or an equivalent administrative unit.\n",
    "    :type county_or_district: str\n",
    "    \n",
    "    :param water_index: Name of the water index.\n",
    "    :type water_index: str\n",
    "    \n",
    "    :return: HTML of the leafmap object.\n",
    "    :rtype: str\n",
    "    \"\"\"\n",
    "    \n",
    "    if not state_or_province:\n",
    "        raise Exception(\"Please select a state\")\n",
    "        \n",
    "    if not county_or_district:\n",
    "        raise Exception(\"Please select a county\")\n",
    "    \n",
    "    # Load the Global Administrative Unit Layers (GAUL) dataset, which includes administrative boundaries.\n",
    "    admin_boundaries = ee.FeatureCollection('FAO/GAUL/2015/level2')\n",
    "\n",
    "    # Filter the GAUL dataset for the specified city and country.\n",
    "    geometry = admin_boundaries \\\n",
    "        .filter(ee.Filter.eq('ADM0_NAME', country)) \\\n",
    "        .filter(ee.Filter.eq('ADM1_NAME', state_or_province)) \\\n",
    "        .filter(ee.Filter.eq('ADM2_NAME', county_or_district)) \\\n",
    "        .geometry()\n",
    "        \n",
    "    # Load a satellite image collection (e.g., Landsat 8 Surface Reflectance).\n",
    "    left_image = ee.ImageCollection('LANDSAT/LC08/C01/T1_SR') \\\n",
    "        .filterBounds(geometry) \\\n",
    "        .filterDate(\"2013-01-01\", \"2015-12-31\") \\\n",
    "        .median() \\\n",
    "        .clip(geometry)\n",
    "    \n",
    "    right_image = ee.ImageCollection('LANDSAT/LC08/C01/T1_SR') \\\n",
    "        .filterBounds(geometry) \\\n",
    "        .filterDate(\"2021-01-01\", \"2023-12-31\") \\\n",
    "        .median() \\\n",
    "        .clip(geometry)\n",
    "    \n",
    "    # Get index name\n",
    "    index_name = water_indices[water_indices.label == water_index].short_name.iloc[0]\n",
    "    \n",
    "    index_function_left = get_index_function(index_name, left_image)\n",
    "    index_function_right = get_index_function(index_name, right_image)\n",
    "    \n",
    "    # Generate legend and visualization parameters\n",
    "    # Define visualization parameters using the custom palette.\n",
    "    vis_params = {\n",
    "        'min': minimum_index_value,\n",
    "        'max': maximum_index_value,\n",
    "        'palette': palette\n",
    "    }\n",
    "\n",
    "    # Calculate the range interval for each color.\n",
    "    num_colors = len(palette)\n",
    "    interval = 2.0 / num_colors\n",
    "\n",
    "    # Create the legend dictionary with range values as keys.\n",
    "    legend_dict = {}\n",
    "    for i, color in enumerate(palette):\n",
    "        # Define the range for each color.\n",
    "        range_min = round(-1 + i * interval, 2)\n",
    "        range_max = round(-1 + (i + 1) * interval, 2)\n",
    "        # Use the range as the key and the color as the value.\n",
    "        legend_dict[f'{range_min}-{range_max}'] = color\n",
    "    \n",
    "    # Visualize the spectral index using Geemap.\n",
    "    Map = geemap.Map(basemap=\"CartoDB.Positron\")\n",
    "    Map.centerObject(geometry, zoom=11)\n",
    "    \n",
    "    left_layer = geemap.ee_tile_layer(index_function_left, vis_params, f\"{index_name} 2013-2015\")\n",
    "    right_layer = geemap.ee_tile_layer(index_function_right, vis_params, f\"{index_name} 2021-2023\")\n",
    "    Map.split_map(left_layer, right_layer)\n",
    "\n",
    "    # Add a legend to the map.\n",
    "    Map.add_legend(title=\"Legend\", legend_dict=legend_dict, position='bottomright')\n",
    "    \n",
    "    comparison_map = Map.to_html()\n",
    "\n",
    "    return comparison_map"
   ]
  },
  {
   "cell_type": "code",
   "execution_count": 9,
   "id": "5a7d47b9-1050-494e-a6f9-dc1a4153c80d",
   "metadata": {},
   "outputs": [
    {
     "data": {
      "text/html": [
       "\n",
       "            <style>\n",
       "                .geemap-dark {\n",
       "                    --jp-widgets-color: white;\n",
       "                    --jp-widgets-label-color: white;\n",
       "                    --jp-ui-font-color1: white;\n",
       "                    --jp-layout-color2: #454545;\n",
       "                    background-color: #383838;\n",
       "                }\n",
       "                    \n",
       "                .geemap-dark .jupyter-button {\n",
       "                    --jp-layout-color3: #383838;\n",
       "                }\n",
       "                \n",
       "                .geemap-colab {\n",
       "                    background-color: var(--colab-primary-surface-color, white);\n",
       "                }\n",
       "                    \n",
       "                .geemap-colab .jupyter-button {\n",
       "                    --jp-layout-color3: var(--colab-primary-surface-color, white);\n",
       "                }\n",
       "            </style>\n",
       "            "
      ],
      "text/plain": [
       "<IPython.core.display.HTML object>"
      ]
     },
     "metadata": {},
     "output_type": "display_data"
    },
    {
     "name": "stderr",
     "output_type": "stream",
     "text": [
      "WARNING:root:Parsing function docstring is still an experimental feature. To reduce uncertainty, consider setting `about` to `False`.\n"
     ]
    }
   ],
   "source": [
    "app = FastDash(water_spectral_indices, port=8001, theme=\"cosmo\", mode=\"external\")"
   ]
  },
  {
   "cell_type": "markdown",
   "id": "bcb30911-0f3d-4818-a643-4ef1aa9c7db1",
   "metadata": {},
   "source": [
    "#### Additional app functionality"
   ]
  },
  {
   "cell_type": "code",
   "execution_count": 10,
   "id": "53446b12-3f85-4880-8ca3-d6e0aae718cf",
   "metadata": {},
   "outputs": [
    {
     "data": {
      "text/html": [
       "\n",
       "            <style>\n",
       "                .geemap-dark {\n",
       "                    --jp-widgets-color: white;\n",
       "                    --jp-widgets-label-color: white;\n",
       "                    --jp-ui-font-color1: white;\n",
       "                    --jp-layout-color2: #454545;\n",
       "                    background-color: #383838;\n",
       "                }\n",
       "                    \n",
       "                .geemap-dark .jupyter-button {\n",
       "                    --jp-layout-color3: #383838;\n",
       "                }\n",
       "                \n",
       "                .geemap-colab {\n",
       "                    background-color: var(--colab-primary-surface-color, white);\n",
       "                }\n",
       "                    \n",
       "                .geemap-colab .jupyter-button {\n",
       "                    --jp-layout-color3: var(--colab-primary-surface-color, white);\n",
       "                }\n",
       "            </style>\n",
       "            "
      ],
      "text/plain": [
       "<IPython.core.display.HTML object>"
      ]
     },
     "metadata": {},
     "output_type": "display_data"
    }
   ],
   "source": [
    "# Keep only the states present in the selected country\n",
    "@app.app.callback(dash.Output(\"state_or_province\", \"data\"),\n",
    "                 dash.Input(\"country\", \"value\"))\n",
    "def filter_states(country):\n",
    "    return sorted(data[data.ADM0_NAME == country].ADM1_NAME.unique().tolist())\n",
    "\n",
    "# Keep only the counties present in the selected country and state\n",
    "@app.app.callback(dash.Output(\"county_or_district\", \"data\"),\n",
    "                 dash.Input(\"country\", \"value\"),\n",
    "                 dash.Input(\"state_or_province\", \"value\"))\n",
    "def filter_counties(country, state):\n",
    "    filtered_data = data.copy()\n",
    "    if country:\n",
    "        filtered_data = filtered_data[filtered_data.ADM0_NAME == country]\n",
    "        \n",
    "    if state:\n",
    "        filtered_data = filtered_data[filtered_data.ADM1_NAME == state]\n",
    "        \n",
    "    return sorted(filtered_data.ADM2_NAME.unique().tolist())"
   ]
  },
  {
   "cell_type": "code",
   "execution_count": 11,
   "id": "f91233bf-c090-4e28-b01e-0df127fb6275",
   "metadata": {},
   "outputs": [
    {
     "data": {
      "text/html": [
       "\n",
       "            <style>\n",
       "                .geemap-dark {\n",
       "                    --jp-widgets-color: white;\n",
       "                    --jp-widgets-label-color: white;\n",
       "                    --jp-ui-font-color1: white;\n",
       "                    --jp-layout-color2: #454545;\n",
       "                    background-color: #383838;\n",
       "                }\n",
       "                    \n",
       "                .geemap-dark .jupyter-button {\n",
       "                    --jp-layout-color3: #383838;\n",
       "                }\n",
       "                \n",
       "                .geemap-colab {\n",
       "                    background-color: var(--colab-primary-surface-color, white);\n",
       "                }\n",
       "                    \n",
       "                .geemap-colab .jupyter-button {\n",
       "                    --jp-layout-color3: var(--colab-primary-surface-color, white);\n",
       "                }\n",
       "            </style>\n",
       "            "
      ],
      "text/plain": [
       "<IPython.core.display.HTML object>"
      ]
     },
     "metadata": {},
     "output_type": "display_data"
    },
    {
     "name": "stdout",
     "output_type": "stream",
     "text": [
      "Dash app running on http://127.0.0.1:8001/\n"
     ]
    }
   ],
   "source": [
    "app.run()"
   ]
  }
 ],
 "metadata": {
  "kernelspec": {
   "display_name": "fastdash",
   "language": "python",
   "name": "python3"
  },
  "language_info": {
   "codemirror_mode": {
    "name": "ipython",
    "version": 3
   },
   "file_extension": ".py",
   "mimetype": "text/x-python",
   "name": "python",
   "nbconvert_exporter": "python",
   "pygments_lexer": "ipython3",
   "version": "3.8.12"
  }
 },
 "nbformat": 4,
 "nbformat_minor": 5
}
