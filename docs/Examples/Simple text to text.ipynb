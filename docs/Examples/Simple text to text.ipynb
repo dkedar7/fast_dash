{
 "cells": [
  {
   "cell_type": "code",
   "execution_count": 1,
   "id": "512fe61d-7889-4c5b-90bc-c7284e87f28f",
   "metadata": {},
   "outputs": [],
   "source": [
    "from fast_dash import fastdash"
   ]
  },
  {
   "cell_type": "code",
   "execution_count": 2,
   "id": "e6b45553-4509-4662-b6bc-248779bd554e",
   "metadata": {},
   "outputs": [
    {
     "name": "stderr",
     "output_type": "stream",
     "text": [
      "/mnt/c/Users/kedar/OneDrive/Documents/Code/fast_dash/fast_dash/Components.py:941: UserWarning:\n",
      "\n",
      "Unknown or unsupported hint. Assuming text.\n",
      "\n",
      "/home/dkedar7/miniconda3/envs/fastdash_docs/lib/python3.9/site-packages/dash/dash.py:516: UserWarning:\n",
      "\n",
      "JupyterDash is deprecated, use Dash instead.\n",
      "See https://dash.plotly.com/dash-in-jupyter for more details.\n",
      "\n"
     ]
    },
    {
     "data": {
      "text/html": [
       "\n",
       "        <iframe\n",
       "            width=\"100%\"\n",
       "            height=\"650\"\n",
       "            src=\"http://127.0.0.1:8080/\"\n",
       "            frameborder=\"0\"\n",
       "            allowfullscreen\n",
       "            \n",
       "        ></iframe>\n",
       "        "
      ],
      "text/plain": [
       "<IPython.lib.display.IFrame at 0x7f1b684d5d90>"
      ]
     },
     "metadata": {},
     "output_type": "display_data"
    },
    {
     "data": {
      "text/html": [
       "\n",
       "        <iframe\n",
       "            width=\"100%\"\n",
       "            height=\"650\"\n",
       "            src=\"http://127.0.0.1:8080/\"\n",
       "            frameborder=\"0\"\n",
       "            allowfullscreen\n",
       "            \n",
       "        ></iframe>\n",
       "        "
      ],
      "text/plain": [
       "<IPython.lib.display.IFrame at 0x7f1b685602b0>"
      ]
     },
     "metadata": {},
     "output_type": "display_data"
    }
   ],
   "source": [
    "@fastdash(mode='inline')\n",
    "def text_to_text_function(input_text):\n",
    "    return input_text"
   ]
  }
 ],
 "metadata": {
  "kernelspec": {
   "display_name": "fastdash_docs",
   "language": "python",
   "name": "python3"
  },
  "language_info": {
   "codemirror_mode": {
    "name": "ipython",
    "version": 3
   },
   "file_extension": ".py",
   "mimetype": "text/x-python",
   "name": "python",
   "nbconvert_exporter": "python",
   "pygments_lexer": "ipython3",
   "version": "3.9.16"
  }
 },
 "nbformat": 4,
 "nbformat_minor": 5
}
